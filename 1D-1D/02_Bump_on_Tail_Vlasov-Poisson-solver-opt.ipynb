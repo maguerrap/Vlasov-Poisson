{
 "cells": [
  {
   "cell_type": "markdown",
   "id": "d18ad4d2-b5af-4e44-9ca4-cb59c0f8dc65",
   "metadata": {},
   "source": [
    "# Suppressing instability on a Vlasov-Poisson system with an external electric field\n",
    "## Example: Bump on tail distribution\n",
    "\n",
    "$$\\mu(v) = \\frac{9}{10\\sqrt{2\\pi}} \\exp\\left(-\\frac{(v - \\bar{v}_1)^2}{2}\\right)\n",
    "        + \\frac{\\sqrt{2}}{10\\sqrt{\\pi}} \\exp\\left(-2(v - \\bar{v}_2)^2\\right).$$\n",
    "\n",
    "$$f(0, x, v) = \\frac{\\sqrt{2}\\,\\varepsilon}{10\\sqrt{\\pi}} \\exp\\left(-2(v - \\bar{v}_2)^2\\right)\\cos(\\beta x) + \\mu(v).$$"
   ]
  },
  {
   "cell_type": "code",
   "execution_count": null,
   "id": "8bcbe45a-4282-4daa-81f4-9a4687107ebf",
   "metadata": {},
   "outputs": [],
   "source": [
    "import numpy as np\n",
    "import matplotlib.pyplot as plt\n",
    "import matplotlib\n",
    "import jax\n",
    "Array = jax.Array\n",
    "import jax.numpy as jnp\n",
    "import jax.scipy as jsp\n",
    "\n",
    "import optax\n",
    "\n",
    "from VP_solver.jax_vp_solver import Mesh, make_mesh, VlasovPoissonSolver\n",
    "from Utils.utils import plot_feq_distribution, plot_distribution\n",
    "\n",
    "matplotlib.rcParams.update({\n",
    "    'font.size': 14,  # General font size\n",
    "    'axes.labelsize': 14,  # Axis label size\n",
    "    'axes.titlesize': 14,  # Title size\n",
    "    'xtick.labelsize': 14,  # X-tick label size\n",
    "    'ytick.labelsize': 14,  # Y-tick label size\n",
    "    'legend.fontsize': 14   # Legend font size\n",
    "})\n",
    "\n",
    "print(jax.devices())"
   ]
  },
  {
   "cell_type": "markdown",
   "id": "4122f534-dfff-478c-9a4c-a3192a6c92a8",
   "metadata": {},
   "source": [
    "## Problem setup and forward solver setup"
   ]
  },
  {
   "cell_type": "code",
   "execution_count": null,
   "id": "49f9af15-035f-4e94-b860-691c1de58555",
   "metadata": {},
   "outputs": [],
   "source": [
    "# Setup\n",
    "nx = 256\n",
    "nv = 256\n",
    "dt = 0.1\n",
    "t_final = 40  # Adjusted for demonstration purposes\n",
    "L = 20 * jnp.pi\n",
    "LV = 9.0"
   ]
  },
  {
   "cell_type": "code",
   "execution_count": null,
   "id": "970a8898-00f4-4c27-9ec9-1bd2e3605d63",
   "metadata": {},
   "outputs": [],
   "source": [
    "mesh = make_mesh(L, LV, nx, nv)\n",
    "\n",
    "mu1 = -3\n",
    "mu2 = 4.5\n",
    "f_eq = (9 * jnp.exp(-0.5 * (mesh.V - mu1)**2))/(10*jnp.sqrt(2*jnp.pi))\\\n",
    "        + (jnp.sqrt(2) * jnp.exp(-2 * (mesh.V - mu2)**2))/(10*jnp.sqrt(jnp.pi))\n",
    "epsilon1 = 0.001\n",
    "epsilon2 = 0.0\n",
    "k_0 = 0.1\n",
    "f_iv = (epsilon1 * jnp.cos(k_0 * mesh.X) + epsilon2 * jnp.sin(k_0 * mesh.X)) \\\n",
    "        * (jnp.sqrt(2) * jnp.exp(-2 * (mesh.V - mu2)**2)) / (10*jnp.sqrt(jnp.pi)) + f_eq"
   ]
  },
  {
   "cell_type": "code",
   "execution_count": null,
   "id": "97808071-e06a-415f-90b7-0130aef835ec",
   "metadata": {},
   "outputs": [],
   "source": [
    "# Function to compute the external field H (not time-dependent)\n",
    "def compute_external_field(ak, mesh):\n",
    "    k = jnp.arange(1, len(ak[0,:]) + 1)  # Create an array of k values from 1 to len(a_k)\n",
    "    H = ak[0,:] @ jnp.cos(k[:, None] * k_0 * mesh.xs) \\\n",
    "            + ak[1,:] @ jnp.sin(k[:, None]* k_0 * mesh.xs)  # Vectorized computation\n",
    "    return H"
   ]
  },
  {
   "cell_type": "code",
   "execution_count": null,
   "id": "d52d6ab6-b6bd-4fa3-8307-7a34fc342c14",
   "metadata": {},
   "outputs": [],
   "source": [
    "solver = VlasovPoissonSolver(mesh=mesh, dt=dt, f_eq=f_eq)\n",
    "\n",
    "# JIT-compiled forward solver\n",
    "solver_jit = jax.jit(solver.run_forward_jax_scan, static_argnames=('t_final',))"
   ]
  },
  {
   "cell_type": "code",
   "execution_count": null,
   "id": "9a456ddb",
   "metadata": {},
   "outputs": [],
   "source": [
    "# External field parameters (coefficients for the cosine terms)\n",
    "k_total = 2\n",
    "ak1 = jax.random.uniform(jax.random.key(888), (2,k_total), minval=-1.0, maxval=1.0)\n",
    "\n",
    "# Compute the external field\n",
    "H1 = compute_external_field(ak1, mesh)"
   ]
  },
  {
   "cell_type": "code",
   "execution_count": null,
   "id": "692b30e8-8a47-49cc-bb01-b2ac34b9bd91",
   "metadata": {},
   "outputs": [],
   "source": [
    "f_array1, E_array1, ee_array1 = solver_jit(f_iv, 0.0*H1, t_final=t_final)"
   ]
  },
  {
   "cell_type": "code",
   "execution_count": null,
   "id": "5d4b81da-a40c-42da-b4c8-d30d089a4b4d",
   "metadata": {},
   "outputs": [],
   "source": [
    "fig, axs = plt.subplots(1,4 ,figsize=(38, 7))\n",
    "\n",
    "\n",
    "plot_feq_distribution(fig, axs[0], f_eq, 'Distribution of $f_{eq}$', mesh)\n",
    "\n",
    "plot_distribution(fig, axs[1], f_array1, 'Distribution of $f$', t_final, mesh)\n",
    "\n",
    "axs[2].plot(mesh.xs, E_array1[0], label=f't={0*dt:.1f}')\n",
    "axs[2].plot(mesh.xs, E_array1[199], label=f't={200*dt:.1f}')\n",
    "axs[2].plot(mesh.xs, E_array1[299], label=f't={300*dt:.1f}')\n",
    "axs[2].plot(mesh.xs, E_array1[399], label=f't={400*dt:.1f}')\n",
    "axs[2].set_xlabel('$x$')\n",
    "axs[2].set_title('$E(t,x)$ at different times')\n",
    "axs[2].legend()\n",
    "\n",
    "axs[3].ticklabel_format(axis='y', style='sci', scilimits=(-2,2))\n",
    "axs[3].plot(t_values, ee_array1)\n",
    "axs[3].set_xlabel('$t$')\n",
    "axs[3].set_title('$\\\\mathcal{E}_{f}(t)$')\n",
    "\n",
    "plt.show()"
   ]
  },
  {
   "cell_type": "markdown",
   "id": "33c4ba04-5c53-4215-887d-4294f5b73989",
   "metadata": {},
   "source": [
    "## Optimization: finding the coefficients of the external electric field to suppress instability"
   ]
  },
  {
   "cell_type": "markdown",
   "id": "8f8a630e-5c11-4ba3-862f-45bc5def5b56",
   "metadata": {},
   "source": [
    "### $L^{2}$ objecive function"
   ]
  },
  {
   "cell_type": "code",
   "execution_count": null,
   "id": "3eec15d4-cea3-4f2e-89d6-10989c4f3654",
   "metadata": {},
   "outputs": [],
   "source": [
    "# Optimization through auto-differentiation with fixed basis.\n",
    "\n",
    "# Adjust the J function to use f_final\n",
    "def L2(f_final, solver):\n",
    "    return jnp.sum((f_final - solver.f_eq) ** 2) * solver.mesh.dx * solver.mesh.dv\n",
    "\n",
    "@jax.jit\n",
    "def cost_function_L2(a_k):\n",
    "    H = compute_external_field(a_k, mesh)\n",
    "    f_array, E_array, ee_array = solver_jit(f_iv, H, t_final)\n",
    "    cost = L2(f_array, solver)\n",
    "    return cost"
   ]
  },
  {
   "cell_type": "markdown",
   "id": "58a51fd4-f5dd-483a-a0c8-1e575e40d8c9",
   "metadata": {},
   "source": [
    "#### Gradient Descent w/ Linesearch"
   ]
  },
  {
   "cell_type": "code",
   "execution_count": null,
   "id": "bf612024-ffc2-4a4e-96ae-96b4f0965617",
   "metadata": {},
   "outputs": [],
   "source": [
    "maxiter = 8000\n",
    "\n",
    "solver_opt = optax.chain(\n",
    "   optax.sgd(learning_rate=1.),\n",
    "    optax.scale_by_zoom_linesearch(max_linesearch_steps=50)\n",
    ")\n",
    "\n",
    "def scan_fn(carry, _):\n",
    "    params, opt_state = carry\n",
    "    value, grad = value_and_grad_1(params, state=opt_state)\n",
    "    updates, opt_state = solver_opt_gdl.update(grad, opt_state, params,\n",
    "                                           value=value, grad=grad, value_fn=cost_function_L2)\n",
    "    params = optax.apply_updates(params, updates)\n",
    "    obj_value = cost_function_L2(params)\n",
    "    return (params, opt_state), obj_value"
   ]
  },
  {
   "cell_type": "code",
   "execution_count": null,
   "id": "13021a26",
   "metadata": {},
   "outputs": [],
   "source": [
    "# Initial point and state\n",
    "# External field parameters (coefficients for the cosine terms)\n",
    "# Initial guess for the coefficients\n",
    "k_total = 14\n",
    "ak_init_1 = jax.random.uniform(jax.random.key(888), (2, k_total), minval=-1.0, maxval=1.0)\n",
    "opt_state = solver_opt.init(ak_init_1)\n",
    "value_and_grad = jax.jit(optax.value_and_grad_from_state(cost_function_L2))\n",
    "\n",
    "\n",
    "# Run the optimization and collect objective values using `scan`\n",
    "res_opt_l2_1, objective_values_l2_1 = jax.lax.scan(scan_fn, (ak_init_1, opt_state), None, length=maxiter)\n",
    "\n",
    "\n",
    "ak_opt_l2_1, state = res_opt_l2_1"
   ]
  },
  {
   "cell_type": "code",
   "execution_count": null,
   "id": "1139f4ad-5ec6-4340-88c3-f8aa986ce1a4",
   "metadata": {},
   "outputs": [],
   "source": [
    "H_init_1 = compute_external_field(ak_init_1, mesh)\n",
    "H_l2_1 = compute_external_field(ak_opt_l2_1, mesh)\n",
    "ff_array1, E_array1, ee_array1 = solver.run_forward_jax_scan(f_iv, H_l2_1, t_final)\n",
    "\n",
    "f_final1 = ff_array1\n",
    "\n",
    "error_l2_1 = jnp.sum((f_final1 - f_eq)**2) * mesh.dx * mesh.dv"
   ]
  },
  {
   "cell_type": "code",
   "execution_count": null,
   "id": "40f49137-fafa-4143-901e-5f0ce1cd5622",
   "metadata": {},
   "outputs": [],
   "source": [
    "fig, axs = plt.subplots(1,4 ,figsize=(38, 7))\n",
    "\n",
    "\n",
    "plot_distribution(fig, axs[0], f_final1, 'Distribution of $f[H]$', t_final, mesh)\n",
    "\n",
    "#plot_distribution(fig, axs[0,1], jnp.abs(f_final1 - f_eq), '$|f[H](T) - f_{eq}|$', t_final, mesh)\n",
    "\n",
    "axs[1].plot(mesh.xs, H_l2_1, label='$H(x)$')\n",
    "axs[1].plot(mesh.xs, E_array1[0] - H_l2_1, label=f'$E(t={0*dt:.0f},x)$')\n",
    "axs[1].plot(mesh.xs, E_array1[99] - H_l2_1, label=f'$E(t={100*dt:.0f},x)$')\n",
    "axs[1].plot(mesh.xs, E_array1[199] - H_l2_1, label=f'$E(t={200*dt:.0f},x)$')\n",
    "axs[1].plot(mesh.xs, E_array1[299] - H_l2_1, label=f'$E(t={300*dt:.0f},x)$')\n",
    "axs[1].set_xlabel('$x$')\n",
    "axs[1].set_title('Electric fields')\n",
    "axs[1].legend(loc='upper right')\n",
    "\n",
    "#axs[2].ticklabel_format(axis='y', style='sci', scilimits=(-2,2))\n",
    "axs[2].plot(t_values, ee_array1)\n",
    "axs[2].set_xlabel('$t$')\n",
    "#axs[2].set_ylabel('Electric Energy')\n",
    "axs[2].set_title('$\\\\mathcal{E}_{f}(t)$')\n",
    "\n",
    "\n",
    "#axs[3].ticklabel_format(axis='both', style='sci', scilimits=(0,0))#, useMathText=True)\n",
    "axs[3].plot(objective_values_l2_1, label='L-BFGS')\n",
    "#axs[3].set_yscale('log')\n",
    "axs[3].set_xlabel(\"Iteration\")\n",
    "#axs[3].set_ylabel(\"Objective value\")\n",
    "axs[3].set_title(\"Convergence of Objective\")\n",
    "\n",
    "\n",
    "plt.show()"
   ]
  },
  {
   "cell_type": "markdown",
   "id": "1fcd7dd2-c58d-4ad4-9224-1beed8a5fb91",
   "metadata": {},
   "source": [
    "#### Gradient Descent"
   ]
  },
  {
   "cell_type": "code",
   "execution_count": null,
   "id": "8639de81-e2be-4e68-a6b2-e94effeb9be4",
   "metadata": {},
   "outputs": [],
   "source": [
    "maxiter = 12000\n",
    "learning_rate = 1e-9\n",
    "solver_opt = optax.sgd(learning_rate=learning_rate)\n",
    "\n",
    "def scan_fn_gd(carry, _):\n",
    "    params, opt_state = carry\n",
    "    grad_ = grad(params)\n",
    "    updates, opt_state = solver_opt.update(grad_, opt_state, params)\n",
    "    params = optax.apply_updates(params, updates)\n",
    "    obj_value = cost_function_L2(params)\n",
    "    return (params, opt_state), obj_value"
   ]
  },
  {
   "cell_type": "code",
   "execution_count": null,
   "id": "9ad35b50-e001-4c6a-a08f-4e47d3645fa6",
   "metadata": {},
   "outputs": [],
   "source": [
    "# Initial point and state\n",
    "# External field parameters (coefficients for the cosine terms)\n",
    "# Initial guess for the coefficients\n",
    "k_total = 14\n",
    "ak_init_2 = jax.random.uniform(jax.random.key(888), (2, k_total), minval=-0.01, maxval=0.01)\n",
    "opt_state = solver_opt.init(ak_init_2)\n",
    "grad = jax.jit(jax.grad(cost_function_L2))\n",
    "\n",
    "# Run the optimization and collect objective values using `scan`\n",
    "res_opt_l2_2, objective_values_l2_2 = jax.lax.scan(scan_fn_gd, (ak_init_2, opt_state), None, length=maxiter)\n",
    "\n",
    "\n",
    "ak_opt_l2_2, state = res_opt_l2_2"
   ]
  },
  {
   "cell_type": "code",
   "execution_count": null,
   "id": "3d7a0a32-bc5a-45b6-b23a-6293bcd3b056",
   "metadata": {},
   "outputs": [],
   "source": [
    "H_init_2 = compute_external_field(ak_init_2, mesh)\n",
    "H_l2_2 = compute_external_field(ak_opt_l2_2, mesh)\n",
    "ff_array2, E_array2, ee_array2 = solver.run_forward_jax_scan(f_iv, H_l2_2, t_final)\n",
    "\n",
    "f_final2 = ff_array2\n",
    "\n",
    "error_l2_2 = jnp.sum((f_final2 - f_eq)**2) * mesh.dx * mesh.dv"
   ]
  },
  {
   "cell_type": "code",
   "execution_count": null,
   "id": "0e4de2b3-520b-4e94-98a7-18ec40291844",
   "metadata": {},
   "outputs": [],
   "source": [
    "fig, axs = plt.subplots(1,4 ,figsize=(38, 7))\n",
    "\n",
    "plot_distribution(fig, axs[0], f_final2, 'Distribution of $f[H]$', t_final, mesh)\n",
    "\n",
    "#plot_distribution(fig, axs[1], jnp.abs(f_final2 - f_eq), '$|f[H](T) - f_{eq}|$', t_final, mesh)\n",
    "\n",
    "\n",
    "axs[1].plot(mesh.xs, H_l2_2, label='$H(x)$')\n",
    "axs[1].plot(mesh.xs, E_array2[0] - H_l2_2, label=f'$E(t={0*dt:.0f},x)$')\n",
    "axs[1].plot(mesh.xs, E_array2[99] - H_l2_2, label=f'$E(t={100*dt:.0f},x)$')\n",
    "axs[1].plot(mesh.xs, E_array2[199] - H_l2_2, label=f'$E(t={200*dt:.0f},x)$')\n",
    "axs[1].plot(mesh.xs, E_array2[299] - H_l2_2, label=f'$E(t={300*dt:.0f},x)$')\n",
    "axs[1].set_xlabel('$x$')\n",
    "axs[1].set_title('Electric fields')\n",
    "axs[1].legend(loc='upper right')\n",
    "\n",
    "\n",
    "\n",
    "#axs[2].ticklabel_format(axis='y', style='sci', scilimits=(-2,2))\n",
    "axs[2].plot(t_values, ee_array2)\n",
    "axs[2].set_xlabel('$t$')\n",
    "axs[2].set_title('$\\\\mathcal{E}_{f}(t)$')\n",
    "\n",
    "\n",
    "#axs[3].ticklabel_format(axis='both', style='sci', scilimits=(0,0))#, useMathText=True)\n",
    "axs[3].plot(objective_values_l2_2, label='GD')\n",
    "#axs[3].set_yscale('log')\n",
    "axs[3].set_xlabel(\"Iteration\")\n",
    "axs[3].set_title(\"Convergence of Objective\")\n",
    "\n",
    "\n",
    "plt.show()"
   ]
  },
  {
   "cell_type": "markdown",
   "id": "37eacec1-7a55-4d2a-b5bb-6e2522a7ad67",
   "metadata": {},
   "source": [
    "### $KL$ objective function"
   ]
  },
  {
   "cell_type": "code",
   "execution_count": null,
   "id": "4db7008b",
   "metadata": {},
   "outputs": [],
   "source": [
    "# Optimization through auto-differentiation with fixed basis.\n",
    "\n",
    "def kl_divergence(f_final, solver, eps=1e-12):\n",
    "    # Normalize the distributions so they sum to 1\n",
    "    f_final = f_final / (jnp.sum(f_final) * solver.mesh.dx * solver.mesh.dv + eps)\n",
    "    f_eq = solver.f_eq / (jnp.sum(solver.f_eq) * solver.mesh.dx * solver.mesh.dv + eps)\n",
    "    \n",
    "    # Compute KL divergence, adding eps to avoid log(0)\n",
    "    kl_div = jnp.sum(jax.scipy.special.rel_entr(f_final, f_eq + eps) * solver.mesh.dx * solver.mesh.dv)\n",
    "    return kl_div\n",
    "\n",
    "@jax.jit\n",
    "def cost_function_kl(a_k):\n",
    "    H = compute_external_field(a_k, mesh)\n",
    "    f_array, E_array, ee_array = solver_jit(f_iv, H, t_final)\n",
    "    cost = kl_divergence(f_array, solver)\n",
    "    return cost"
   ]
  },
  {
   "cell_type": "markdown",
   "id": "c347c045-30aa-4c1c-b02e-3b02e4ae69b0",
   "metadata": {},
   "source": [
    "#### Gradient Descent w/ Linesearch"
   ]
  },
  {
   "cell_type": "code",
   "execution_count": null,
   "id": "2c40c411-d223-4986-b9af-efb60f3d5dcd",
   "metadata": {},
   "outputs": [],
   "source": [
    "maxiter = 8000\n",
    "\n",
    "solver_opt = optax.chain(\n",
    "   optax.sgd(learning_rate=1.),\n",
    "    optax.scale_by_zoom_linesearch(max_linesearch_steps=50)\n",
    ")\n",
    "\n",
    "def scan_fn(carry, _):\n",
    "    params, opt_state = carry\n",
    "    value, grad = value_and_grad_1(params, state=opt_state)\n",
    "    updates, opt_state = solver_opt_gdl.update(grad, opt_state, params,\n",
    "                                           value=value, grad=grad, value_fn=cost_function_kl)\n",
    "    params = optax.apply_updates(params, updates)\n",
    "    obj_value = cost_function_kl(params)\n",
    "    return (params, opt_state), obj_value"
   ]
  },
  {
   "cell_type": "code",
   "execution_count": null,
   "id": "5982bc72-9f92-4764-a8e2-1ed172d4fe5f",
   "metadata": {},
   "outputs": [],
   "source": [
    "# Initial point and state\n",
    "# External field parameters (coefficients for the cosine terms)\n",
    "# Initial guess for the coefficients\n",
    "k_total = 14\n",
    "ak_init_1 = jax.random.uniform(jax.random.key(888), (2, k_total), minval=-1.0, maxval=1.0)\n",
    "opt_state = solver_opt.init(ak_init_1)\n",
    "value_and_grad = jax.jit(optax.value_and_grad_from_state(cost_function_kl))\n",
    "\n",
    "\n",
    "# Run the optimization and collect objective values using `scan`\n",
    "res_opt_kl_1, objective_values_kl_1 = jax.lax.scan(scan_fn, (ak_init_1, opt_state), None, length=maxiter)\n",
    "\n",
    "\n",
    "ak_opt_kl_1, state = res_opt_kl_1"
   ]
  },
  {
   "cell_type": "code",
   "execution_count": null,
   "id": "afb390b2-21b0-4f3c-acb5-e7b1d87fbba9",
   "metadata": {},
   "outputs": [],
   "source": [
    "H_init_1 = compute_external_field(ak_init_1, mesh)\n",
    "H_kl_1 = compute_external_field(ak_opt_kl_1, mesh)\n",
    "ff_array1, E_array1, ee_array1 = solver.run_forward_jax_scan(f_iv, H_kl_1, t_final)\n",
    "\n",
    "f_final1 = ff_array1\n",
    "\n",
    "error_kl_1 = jnp.sum((f_final1 - f_eq)**2) * mesh.dx * mesh.dv"
   ]
  },
  {
   "cell_type": "code",
   "execution_count": null,
   "id": "8ba0591b-9926-4603-a7d4-87fb5e0b545b",
   "metadata": {},
   "outputs": [],
   "source": [
    "fig, axs = plt.subplots(1,4 ,figsize=(38, 7))\n",
    "\n",
    "plot_distribution(fig, axs[0], f_final1, 'Distribution of $f[H]$', t_final, mesh)\n",
    "\n",
    "#plot_distribution(fig, axs[1], jnp.abs(f_final1 - f_eq), '$|f[H](T) - f_{eq}|$', t_final, mesh)\n",
    "\n",
    "\n",
    "axs[1].plot(mesh.xs, H_kl_1, label='$H(x)$')\n",
    "axs[1].plot(mesh.xs, E_array1[0] - H_kl_1, label=f'$E(t={0*dt:.0f},x)$')\n",
    "axs[1].plot(mesh.xs, E_array1[99] - H_kl_1, label=f'$E(t={100*dt:.0f},x)$')\n",
    "axs[1].plot(mesh.xs, E_array1[199] - H_kl_1, label=f'$E(t={200*dt:.0f},x)$')\n",
    "axs[1].plot(mesh.xs, E_array1[299] - H_kl_1, label=f'$E(t={300*dt:.0f},x)$')\n",
    "axs[1].set_xlabel('$x$')\n",
    "axs[1].set_title('Electric fields')\n",
    "axs[1].legend(loc='upper right')\n",
    "\n",
    "\n",
    "\n",
    "#axs[2].ticklabel_format(axis='y', style='sci', scilimits=(-2,2))\n",
    "axs[2].plot(t_values, ee_array1)\n",
    "axs[2].set_xlabel('$t$')\n",
    "axs[2].set_title('$\\\\mathcal{E}_{f}(t)$')\n",
    "\n",
    "\n",
    "#axs[3].ticklabel_format(axis='both', style='sci', scilimits=(0,0))#, useMathText=True)\n",
    "axs[3].plot(objective_values_kl_1, label='L-BFGS')\n",
    "#axs[3].set_yscale('log')\n",
    "axs[3].set_xlabel(\"Iteration\")\n",
    "axs[3].set_title(\"Convergence of Objective\")\n",
    "\n",
    "\n",
    "plt.show()"
   ]
  },
  {
   "cell_type": "markdown",
   "id": "8e3d3ff2-adc5-4b76-855b-5817e1bf0f87",
   "metadata": {},
   "source": [
    "#### Gradient Descent"
   ]
  },
  {
   "cell_type": "code",
   "execution_count": null,
   "id": "64bccbc7-4b1b-4606-adbf-d2b41e1e267f",
   "metadata": {},
   "outputs": [],
   "source": [
    "maxiter = 12000\n",
    "learning_rate = 1e-9\n",
    "solver_opt = optax.sgd(learning_rate=learning_rate)\n",
    "\n",
    "def scan_fn_gd(carry, _):\n",
    "    params, opt_state = carry\n",
    "    grad_ = grad(params)\n",
    "    updates, opt_state = solver_opt.update(grad_, opt_state, params)\n",
    "    params = optax.apply_updates(params, updates)\n",
    "    obj_value = cost_function_kl(params)\n",
    "    return (params, opt_state), obj_value"
   ]
  },
  {
   "cell_type": "code",
   "execution_count": null,
   "id": "ec2ae490-0fac-4834-a070-c3a56eaa6f8f",
   "metadata": {},
   "outputs": [],
   "source": [
    "# Initial point and state\n",
    "# External field parameters (coefficients for the cosine terms)\n",
    "# Initial guess for the coefficients\n",
    "k_total = 14\n",
    "ak_init_2 = jax.random.uniform(jax.random.key(888), (2, k_total), minval=-0.01, maxval=0.01)\n",
    "opt_state = solver_opt.init(ak_init_2)\n",
    "grad = jax.jit(jax.grad(cost_function_kl))\n",
    "\n",
    "# Run the optimization and collect objective values using `scan`\n",
    "res_opt_kl_2, objective_values_kl_2 = jax.lax.scan(scan_fn_gd, (ak_init_2, opt_state), None, length=maxiter)\n",
    "\n",
    "\n",
    "ak_opt_kl_2, state = res_opt_kl_2"
   ]
  },
  {
   "cell_type": "code",
   "execution_count": null,
   "id": "aa0c07af-0a62-4156-83b7-a8105f01f9b2",
   "metadata": {},
   "outputs": [],
   "source": [
    "H_init_2 = compute_external_field(ak_init_2, mesh)\n",
    "H_kl_2 = compute_external_field(ak_opt_kl_2, mesh)\n",
    "ff_array2, E_array2, ee_array2 = solver.run_forward_jax_scan(f_iv, H_kl_2, t_final)\n",
    "\n",
    "f_final2 = ff_array2\n",
    "\n",
    "error_kl_2 = jnp.sum((f_final2 - f_eq)**2) * mesh.dx * mesh.dv"
   ]
  },
  {
   "cell_type": "code",
   "execution_count": null,
   "id": "888b8239-2c5d-4693-a58a-8a3d9f638c87",
   "metadata": {},
   "outputs": [],
   "source": [
    "fig, axs = plt.subplots(1,4 ,figsize=(38, 7))\n",
    "\n",
    "plot_distribution(fig, axs[0], f_final2, 'Distribution of $f[H]$', t_final, mesh)\n",
    "\n",
    "#plot_distribution(fig, axs[1], jnp.abs(f_final2 - f_eq), '$|f[H](T) - f_{eq}|$', t_final, mesh)\n",
    "\n",
    "\n",
    "axs[1].plot(mesh.xs, H_kl_2, label='$H(x)$')\n",
    "axs[1].plot(mesh.xs, E_array2[0] - H_kl_2, label=f'$E(t={0*dt:.0f},x)$')\n",
    "axs[1].plot(mesh.xs, E_array2[99] - H_kl_2, label=f'$E(t={100*dt:.0f},x)$')\n",
    "axs[1].plot(mesh.xs, E_array2[199] - H_kl_2, label=f'$E(t={200*dt:.0f},x)$')\n",
    "axs[1].plot(mesh.xs, E_array2[299] - H_kl_2, label=f'$E(t={300*dt:.0f},x)$')\n",
    "axs[1].set_xlabel('$x$')\n",
    "axs[1].set_title('Electric fields')\n",
    "axs[1].legend(loc='upper right')\n",
    "\n",
    "\n",
    "\n",
    "#axs[2].ticklabel_format(axis='y', style='sci', scilimits=(-2,2))\n",
    "axs[2].plot(t_values, ee_array2)\n",
    "axs[2].set_xlabel('$t$')\n",
    "axs[2].set_title('$\\\\mathcal{E}_{f}(t)$')\n",
    "\n",
    "\n",
    "#axs[3].ticklabel_format(axis='both', style='sci', scilimits=(0,0))#, useMathText=True)\n",
    "axs[3].plot(objective_values_kl_2, label='GD')\n",
    "#axs[3].set_yscale('log')\n",
    "axs[3].set_xlabel(\"Iteration\")\n",
    "axs[3].set_title(\"Convergence of Objective\")\n",
    "\n",
    "\n",
    "plt.show()"
   ]
  },
  {
   "cell_type": "markdown",
   "id": "f936eaec-45ea-410c-b16f-21f86c736fa2",
   "metadata": {},
   "source": [
    "### Electric energy objective function"
   ]
  },
  {
   "cell_type": "code",
   "execution_count": null,
   "id": "3a1ba225-5f2a-47c0-b034-519011360dde",
   "metadata": {},
   "outputs": [],
   "source": [
    "# Optimization through auto-differentiation with fixed basis.\n",
    "\n",
    "def electric_energy_opt(ee_array, solver):\n",
    "    return jnp.sum(ee_array)*solver.dt\n",
    "\n",
    "@jax.jit\n",
    "def cost_function_ee(a_k):\n",
    "    H = compute_external_field(a_k, mesh)\n",
    "    f_array, E_array, ee_array = solver_jit(f_iv, H, t_final)\n",
    "    cost = electric_energy_opt(ee_array, solver)\n",
    "    return cost"
   ]
  },
  {
   "cell_type": "markdown",
   "id": "9f353af1-6de2-4e4c-9b34-8e07731b5e55",
   "metadata": {},
   "source": [
    "#### Gradient Descent w/ Linesearch"
   ]
  },
  {
   "cell_type": "code",
   "execution_count": null,
   "id": "f714ecdb-cd09-46ad-b7d0-05ec3a180eb6",
   "metadata": {},
   "outputs": [],
   "source": [
    "maxiter = 8000\n",
    "\n",
    "solver_opt = optax.chain(\n",
    "   optax.sgd(learning_rate=1.),\n",
    "    optax.scale_by_zoom_linesearch(max_linesearch_steps=50)\n",
    ")\n",
    "\n",
    "def scan_fn(carry, _):\n",
    "    params, opt_state = carry\n",
    "    value, grad = value_and_grad_1(params, state=opt_state)\n",
    "    updates, opt_state = solver_opt_gdl.update(grad, opt_state, params,\n",
    "                                           value=value, grad=grad, value_fn=cost_function_ee)\n",
    "    params = optax.apply_updates(params, updates)\n",
    "    obj_value = cost_function_ee(params)\n",
    "    return (params, opt_state), obj_value"
   ]
  },
  {
   "cell_type": "code",
   "execution_count": null,
   "id": "c95eecd4-c585-4279-b2c5-db7972807160",
   "metadata": {},
   "outputs": [],
   "source": [
    "# Initial point and state\n",
    "# External field parameters (coefficients for the cosine terms)\n",
    "# Initial guess for the coefficients\n",
    "k_total = 14\n",
    "ak_init_1 = jax.random.uniform(jax.random.key(888), (2, k_total), minval=-1.0, maxval=1.0)\n",
    "opt_state = solver_opt.init(ak_init_1)\n",
    "value_and_grad = jax.jit(optax.value_and_grad_from_state(cost_function_ee))\n",
    "\n",
    "\n",
    "# Run the optimization and collect objective values using `scan`\n",
    "res_opt_ee_1, objective_values_ee_1 = jax.lax.scan(scan_fn, (ak_init_1, opt_state), None, length=maxiter)\n",
    "\n",
    "\n",
    "ak_opt_ee_1, state = res_opt_ee_1"
   ]
  },
  {
   "cell_type": "code",
   "execution_count": null,
   "id": "a4147551-0c7d-428f-8a7e-60a88ee28a9f",
   "metadata": {},
   "outputs": [],
   "source": [
    "H_init_1 = compute_external_field(ak_init_1, mesh)\n",
    "H_ee_1 = compute_external_field(ak_opt_ee_1, mesh)\n",
    "ff_array1, E_array1, ee_array1 = solver.run_forward_jax_scan(f_iv, H_ee_1, t_final)\n",
    "\n",
    "f_final1 = ff_array1\n",
    "\n",
    "error_ee_1 = jnp.sum((f_final1 - f_eq)**2) * mesh.dx * mesh.dv"
   ]
  },
  {
   "cell_type": "code",
   "execution_count": null,
   "id": "449f6b84-a8b3-405a-83a4-7a85b2a07f50",
   "metadata": {},
   "outputs": [],
   "source": [
    "fig, axs = plt.subplots(1,4 ,figsize=(38, 7))\n",
    "\n",
    "plot_distribution(fig, axs[0], f_final1, 'Distribution of $f[H]$', t_final, mesh)\n",
    "\n",
    "#plot_distribution(fig, axs[1], jnp.abs(f_final1 - f_eq), '$|f[H](T) - f_{eq}|$', t_final, mesh)\n",
    "\n",
    "\n",
    "axs[1].plot(mesh.xs, H_ee_1, label='$H(x)$')\n",
    "axs[1].plot(mesh.xs, E_array1[0] - H_ee_1, label=f'$E(t={0*dt:.0f},x)$')\n",
    "axs[1].plot(mesh.xs, E_array1[99] - H_ee_1, label=f'$E(t={100*dt:.0f},x)$')\n",
    "axs[1].plot(mesh.xs, E_array1[199] - H_ee_1, label=f'$E(t={200*dt:.0f},x)$')\n",
    "axs[1].plot(mesh.xs, E_array1[299] - H_ee_1, label=f'$E(t={300*dt:.0f},x)$')\n",
    "axs[1].set_xlabel('$x$')\n",
    "axs[1].set_title('Electric fields')\n",
    "axs[1].legend(loc='upper right')\n",
    "\n",
    "\n",
    "\n",
    "#axs[2].ticklabel_format(axis='y', style='sci', scilimits=(-2,2))\n",
    "axs[2].plot(t_values, ee_array1)\n",
    "axs[2].set_xlabel('$t$')\n",
    "axs[2].set_title('$\\\\mathcal{E}_{f}(t)$')\n",
    "\n",
    "\n",
    "#axs[3].ticklabel_format(axis='both', style='sci', scilimits=(0,0))#, useMathText=True)\n",
    "axs[3].plot(objective_values_ee_1, label='L-BFGS')\n",
    "#axs[3].set_yscale('log')\n",
    "axs[3].set_xlabel(\"Iteration\")\n",
    "axs[3].set_title(\"Convergence of Objective\")\n",
    "\n",
    "\n",
    "plt.show()"
   ]
  },
  {
   "cell_type": "markdown",
   "id": "63c97bb3-b885-4f2f-9320-9d96606aab2b",
   "metadata": {},
   "source": [
    "#### Gradient Descent"
   ]
  },
  {
   "cell_type": "code",
   "execution_count": null,
   "id": "447da60d-d71d-4ad0-baf8-f6646dea8e5c",
   "metadata": {},
   "outputs": [],
   "source": [
    "maxiter = 12000\n",
    "learning_rate = 1e-9\n",
    "solver_opt = optax.sgd(learning_rate=learning_rate)\n",
    "\n",
    "def scan_fn_gd(carry, _):\n",
    "    params, opt_state = carry\n",
    "    grad_ = grad(params)\n",
    "    updates, opt_state = solver_opt.update(grad_, opt_state, params)\n",
    "    params = optax.apply_updates(params, updates)\n",
    "    obj_value = cost_function_ee(params)\n",
    "    return (params, opt_state), obj_value"
   ]
  },
  {
   "cell_type": "code",
   "execution_count": null,
   "id": "8e27e5f0-ccf2-48d3-8864-8d73444a9f6a",
   "metadata": {},
   "outputs": [],
   "source": [
    "# Initial point and state\n",
    "# External field parameters (coefficients for the cosine terms)\n",
    "# Initial guess for the coefficients\n",
    "k_total = 14\n",
    "ak_init_2 = jax.random.uniform(jax.random.key(888), (2, k_total), minval=-0.01, maxval=0.01)\n",
    "opt_state = solver_opt.init(ak_init_2)\n",
    "grad = jax.jit(jax.grad(cost_function_ee))\n",
    "\n",
    "# Run the optimization and collect objective values using `scan`\n",
    "res_opt_ee_2, objective_values_ee_2 = jax.lax.scan(scan_fn_gd, (ak_init_2, opt_state), None, length=maxiter)\n",
    "\n",
    "\n",
    "ak_opt_ee_2, state = res_opt_ee_2"
   ]
  },
  {
   "cell_type": "code",
   "execution_count": null,
   "id": "9bf076e7-959f-4974-9a9b-63b5827570aa",
   "metadata": {},
   "outputs": [],
   "source": [
    "H_init_2 = compute_external_field(ak_init_2, mesh)\n",
    "H_ee_2 = compute_external_field(ak_opt_ee_2, mesh)\n",
    "ff_array2, E_array2, ee_array2 = solver.run_forward_jax_scan(f_iv, H_ee_2, t_final)\n",
    "\n",
    "f_final2 = ff_array2\n",
    "\n",
    "error_ee_2 = jnp.sum((f_final2 - f_eq)**2) * mesh.dx * mesh.dv"
   ]
  },
  {
   "cell_type": "code",
   "execution_count": null,
   "id": "93e8a72e-68dd-494b-86bc-4c1cf86510cb",
   "metadata": {},
   "outputs": [],
   "source": [
    "fig, axs = plt.subplots(1,4 ,figsize=(38, 7))\n",
    "\n",
    "plot_distribution(fig, axs[0], f_final2, 'Distribution of $f[H]$', t_final, mesh)\n",
    "\n",
    "#plot_distribution(fig, axs[1], jnp.abs(f_final2 - f_eq), '$|f[H](T) - f_{eq}|$', t_final, mesh)\n",
    "\n",
    "\n",
    "axs[1].plot(mesh.xs, H_ee_1, label='$H(x)$')\n",
    "axs[1].plot(mesh.xs, E_array1[0] - H_ee_1, label=f'$E(t={0*dt:.0f},x)$')\n",
    "axs[1].plot(mesh.xs, E_array1[99] - H_ee_1, label=f'$E(t={100*dt:.0f},x)$')\n",
    "axs[1].plot(mesh.xs, E_array1[199] - H_ee_1, label=f'$E(t={200*dt:.0f},x)$')\n",
    "axs[1].plot(mesh.xs, E_array1[299] - H_ee_1, label=f'$E(t={300*dt:.0f},x)$')\n",
    "axs[1].set_xlabel('$x$')\n",
    "axs[1].set_title('Electric fields')\n",
    "axs[1].legend(loc='upper right')\n",
    "\n",
    "\n",
    "\n",
    "#axs[2].ticklabel_format(axis='y', style='sci', scilimits=(-2,2))\n",
    "axs[2].plot(t_values, ee_array1)\n",
    "axs[2].set_xlabel('$t$')\n",
    "axs[2].set_title('$\\\\mathcal{E}_{f}(t)$')\n",
    "\n",
    "\n",
    "#axs[3].ticklabel_format(axis='both', style='sci', scilimits=(0,0))#, useMathText=True)\n",
    "axs[3].plot(objective_values_ee_1, label='L-BFGS')\n",
    "#axs[3].set_yscale('log')\n",
    "axs[3].set_xlabel(\"Iteration\")\n",
    "axs[3].set_title(\"Convergence of Objective\")\n",
    "\n",
    "\n",
    "plt.show()"
   ]
  },
  {
   "cell_type": "markdown",
   "id": "658ae7f2-a3b1-4954-8fa7-0add34510625",
   "metadata": {},
   "source": [
    "### Comparing objective functions"
   ]
  },
  {
   "cell_type": "code",
   "execution_count": null,
   "id": "17199451-fcb4-4c1e-90e5-7fe498b4bd19",
   "metadata": {},
   "outputs": [],
   "source": [
    "fig, axs = plt.subplots(1,2 ,figsize=(24, 7))\n",
    "\n",
    "\n",
    "axs[0].plot(objective_values_kl_1, label='KL')\n",
    "axs[0].plot(objective_values_l2_1, label='$L^2$')\n",
    "axs[1].plot(objective_values_ee_1, label='$\\\\mathcal{E}_{f}$')\n",
    "axs[0].set_yscale('log')\n",
    "axs[0].set_xlabel(\"Iteration\")\n",
    "axs[0].set_ylabel(\"Objective value\")\n",
    "axs[0].set_title(\"Convergence using L-BFGS\")\n",
    "axs[0].legend()\n",
    "\n",
    "axs[1].plot(objective_values_kl_2, label='KL')\n",
    "axs[1].plot(objective_values_l2_2, label='$L^2$')\n",
    "axs[1].plot(objective_values_ee_2, label='$\\\\mathcal{E}_{f}$')\n",
    "axs[1].set_yscale('log')\n",
    "axs[1].set_xlabel(\"Iteration\")\n",
    "axs[1].set_ylabel(\"Objective value\")\n",
    "axs[1].set_title(\"Convergence using GD\")\n",
    "axs[1].legend()\n",
    "plt.show()"
   ]
  },
  {
   "cell_type": "code",
   "execution_count": null,
   "id": "8ebaec94-0d52-4658-86b2-23ed0b1ab871",
   "metadata": {},
   "outputs": [],
   "source": []
  }
 ],
 "metadata": {
  "kernelspec": {
   "display_name": "Python 3 (ipykernel)",
   "language": "python",
   "name": "python3"
  },
  "language_info": {
   "codemirror_mode": {
    "name": "ipython",
    "version": 3
   },
   "file_extension": ".py",
   "mimetype": "text/x-python",
   "name": "python",
   "nbconvert_exporter": "python",
   "pygments_lexer": "ipython3",
   "version": "3.13.2"
  }
 },
 "nbformat": 4,
 "nbformat_minor": 5
}
